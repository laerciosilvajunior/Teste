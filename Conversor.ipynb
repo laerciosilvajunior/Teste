{
 "cells": [
  {
   "cell_type": "code",
   "execution_count": 2,
   "metadata": {
    "collapsed": true
   },
   "outputs": [],
   "source": [
    "%matplotlib inline\n",
    "import matplotlib.pyplot as plt\n",
    "import numpy as np\n",
    "import glob\n",
    "import os\n",
    "import sqlite3 #importa biblioteca do sqlite"
   ]
  },
  {
   "cell_type": "code",
   "execution_count": 4,
   "metadata": {},
   "outputs": [
    {
     "name": "stdout",
     "output_type": "stream",
     "text": [
      "deu certo\n"
     ]
    }
   ],
   "source": [
    "def nametxt (amostra, i): #define função que salva o arquivo .txt\n",
    "    f=open(str(i)+'.txt','w') #abre um arquivo em TXT e o nome do arquivo é incrementado com o valor de \"i\"\n",
    "    a = 0 #endereço inicial dos dados obtidos com o icelera\n",
    "    linha = 0 #contagem para ler o arquivo até o fim\n",
    "    count = 0 #tempo e endereço de leitura\n",
    "    while a+linha*128<amostra.size: #le o arquivo ate o fim\n",
    "        if count>1000: #faz a contagem da frequencia do sinal\n",
    "            count=0\n",
    "        i = 0\n",
    "        for j in range(0,128,1): #o valor eh 128 porque eh referente ao numero de canais\n",
    "            #print(a+j)\n",
    "            if j!=127:\n",
    "                f.write(str(amostra[a+j])) #canal \n",
    "                f.write(', ')\n",
    "            if j==127:\n",
    "                f.write(str(amostra[a+j])) #canal \n",
    "       \n",
    "        count = count +1 #incrementa o tempo e o endereço de leitura \n",
    "        a = a + 128 #128 canais\n",
    "        f.write('\\r\\n') #enter\n",
    "        linha= linha + 1 #faz a contagem total do arquivo para ler todos os arquivos\n",
    "    f.close() # fecha o arquivo .txt\n",
    "    \n",
    "amostra = [] #abre o vetor que recebe os valores do arquivo .dat\n",
    "for i in range(1, 2): #faz a leitura de todos os arquivos, nesse caso do 004.dat até o 039.dat\n",
    "    try:\n",
    "            \n",
    "        print('deu certo')\n",
    "        amostra = (np.fromfile('JB_Clean.fdt', dtype=np.float32)) # abre os arquivos que começam com \"00\"\n",
    "        nametxt(amostra, i) #chama a função que cria o arquivo .txt\n",
    "        \n",
    "    except:\n",
    "        print('erro')\n",
    "        pass #caso não exista o nome do arquivo pula para o próximo\n",
    "   "
   ]
  },
  {
   "cell_type": "code",
   "execution_count": null,
   "metadata": {
    "collapsed": true
   },
   "outputs": [],
   "source": []
  }
 ],
 "metadata": {
  "kernelspec": {
   "display_name": "Python 3",
   "language": "python",
   "name": "python3"
  },
  "language_info": {
   "codemirror_mode": {
    "name": "ipython",
    "version": 3
   },
   "file_extension": ".py",
   "mimetype": "text/x-python",
   "name": "python",
   "nbconvert_exporter": "python",
   "pygments_lexer": "ipython3",
   "version": "3.6.3"
  }
 },
 "nbformat": 4,
 "nbformat_minor": 1
}
